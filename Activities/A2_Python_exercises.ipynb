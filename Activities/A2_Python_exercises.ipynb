{
  "nbformat": 4,
  "nbformat_minor": 0,
  "metadata": {
    "colab": {
      "provenance": []
    },
    "kernelspec": {
      "name": "python3",
      "display_name": "Python 3"
    },
    "language_info": {
      "name": "python"
    }
  },
  "cells": [
    {
      "cell_type": "markdown",
      "source": [
        "### **Lucia Garza Garza  1956237**\n",
        "---\n",
        "\n",
        "## AI Tuesday N4"
      ],
      "metadata": {
        "id": "vq9swUZKRJLY"
      }
    },
    {
      "cell_type": "markdown",
      "source": [
        "**Text Analysis Tool:** Create a Python program that reads a text file and performs various analyses on its content. The program should: Count the number of words, sentences, and paragraphs. Calculate the average word length. Identify the most common words and their frequencies."
      ],
      "metadata": {
        "id": "-wNB97LLY9X1"
      }
    },
    {
      "cell_type": "code",
      "source": [
        "# Read a text file\n",
        "with open('The Marvels of Underwater Exploration.txt', 'r') as file:\n",
        "    text = file.read()\n",
        "\n",
        "print(\"Entire Text:\")\n",
        "print(text)\n",
        "\n",
        "# Count words, sentences, and paragraphs\n",
        "import re\n",
        "\n",
        "words = re.findall(r'\\w+', text)\n",
        "sentences = re.split(r'[.!?]', text)\n",
        "paragraphs = re.split(r'\\n\\s*\\n', text)\n",
        "\n",
        "word_count = len(words)\n",
        "sentence_count = len(sentences) - 1  # Subtract 1 for the last empty string\n",
        "paragraph_count = len(paragraphs)\n",
        "\n",
        "# Calculate average word length\n",
        "total_word_length = sum(len(word) for word in words)\n",
        "average_word_length = total_word_length / word_count\n",
        "\n",
        "# Identify most common words and their frequencies\n",
        "from collections import Counter\n",
        "\n",
        "word_frequencies = Counter(words)\n",
        "most_common_words = word_frequencies.most_common(10)  # Change 10 to the desired number of common words\n",
        "\n",
        "print(f\"Word Count: {word_count}\")\n",
        "print(f\"Sentence Count: {sentence_count}\")\n",
        "print(f\"Paragraph Count: {paragraph_count}\")\n",
        "print(f\"Average Word Length: {average_word_length:.2f}\")\n",
        "print(\"Most Common Words:\")\n",
        "for word, frequency in most_common_words:\n",
        "    print(f\"{word}: {frequency}\")\n"
      ],
      "metadata": {
        "colab": {
          "base_uri": "https://localhost:8080/"
        },
        "id": "VYIya4MXRjc0",
        "outputId": "3dbe90b7-1848-4ba7-d28f-f16af81a9984"
      },
      "execution_count": 8,
      "outputs": [
        {
          "output_type": "stream",
          "name": "stdout",
          "text": [
            "Entire Text:\n",
            "The depths of our planet's oceans remain one of the most enigmatic and fascinating frontiers for scientific discovery. From bioluminescent creatures that light up the pitch-black abyss to hidden underwater ecosystems, the world beneath the waves continues to astound us. Advanced submersibles and remotely operated vehicles (ROVs) have allowed scientists to venture to previously unreachable depths, unveiling an array of bizarre and wondrous life forms. For example, the Mariana Trench, the Earth's deepest point, has been a source of profound exploration, where scientists have encountered organisms that have adapted to crushing pressure and utter darkness, pushing the boundaries of what we thought was possible for life on our planet.\n",
            "\n",
            "Beyond the natural wonders, underwater exploration also holds great promise for uncovering historical mysteries. Sunken shipwrecks, such as the Titanic, have been meticulously studied, shedding light on the past and preserving pieces of history that were once lost to the deep. As we continue to probe the ocean's mysteries, it's evident that beneath the surface, a world of astonishing beauty and significance awaits discovery and understanding, offering a profound sense of wonder and inspiration for both scientists and explorers alike.\n",
            "Word Count: 194\n",
            "Sentence Count: 7\n",
            "Paragraph Count: 2\n",
            "Average Word Length: 5.48\n",
            "Most Common Words:\n",
            "the: 13\n",
            "and: 9\n",
            "of: 8\n",
            "to: 7\n",
            "s: 4\n",
            "for: 4\n",
            "that: 4\n",
            "have: 4\n",
            "scientists: 3\n",
            "a: 3\n"
          ]
        }
      ]
    },
    {
      "cell_type": "markdown",
      "source": [
        "**Hangman Game:** Create a Python program that allows a user to play the game of Hangman. The program should randomly select a word from a predefined list, and the player must guess letters one at a time until they guess the word correctly or run out of attempts."
      ],
      "metadata": {
        "id": "jmSNLxOxSU3w"
      }
    },
    {
      "cell_type": "code",
      "source": [
        "import random\n",
        "\n",
        "# List of predefined words\n",
        "words = ['apple', 'banana', 'cherry', 'date', 'elderberry', 'fig', 'grape', 'honeydew']\n",
        "\n",
        "# Select a random word\n",
        "word_to_guess = random.choice(words)\n",
        "word_length = len(word_to_guess)\n",
        "\n",
        "# Initialize game variables\n",
        "attempts = 6\n",
        "guessed_letters = []\n",
        "hidden_word = ['_'] * word_length\n",
        "\n",
        "def draw_hangman(tries):\n",
        "    hangman_art = [\n",
        "        \"\"\"\n",
        "           --------\n",
        "           |      |\n",
        "                  |\n",
        "                  |\n",
        "                  |\n",
        "                  |\n",
        "        \"\"\",\n",
        "        \"\"\"\n",
        "           --------\n",
        "           |      |\n",
        "           O      |\n",
        "                  |\n",
        "                  |\n",
        "                  |\n",
        "        \"\"\",\n",
        "        \"\"\"\n",
        "           --------\n",
        "           |      |\n",
        "           O      |\n",
        "           |      |\n",
        "                  |\n",
        "                  |\n",
        "        \"\"\",\n",
        "        \"\"\"\n",
        "           --------\n",
        "           |      |\n",
        "           O      |\n",
        "          /|      |\n",
        "                  |\n",
        "                  |\n",
        "        \"\"\",\n",
        "        \"\"\"\n",
        "           --------\n",
        "           |      |\n",
        "           O      |\n",
        "          /|\\\\     |\n",
        "                  |\n",
        "                  |\n",
        "        \"\"\",\n",
        "        \"\"\"\n",
        "           --------\n",
        "           |      |\n",
        "           O      |\n",
        "          /|\\\\     |\n",
        "          /       |\n",
        "                  |\n",
        "        \"\"\",\n",
        "        \"\"\"\n",
        "           --------\n",
        "           |      |\n",
        "           O      |\n",
        "          /|\\\\     |\n",
        "          / \\\\     |\n",
        "                  |\n",
        "        \"\"\",\n",
        "    ]\n",
        "\n",
        "    print(hangman_art[tries])\n",
        "\n",
        "# Game loop\n",
        "while attempts > 0 and '_' in hidden_word:\n",
        "    print(\" \".join(hidden_word))\n",
        "    guess = input(\"Guess a letter: \").lower()\n",
        "\n",
        "    if len(guess) != 1 or not guess.isalpha():\n",
        "        print(\"Invalid input. Please enter a single letter.\")\n",
        "        continue\n",
        "\n",
        "    if guess in guessed_letters:\n",
        "        print(\"You've already guessed that letter.\")\n",
        "        continue\n",
        "\n",
        "    guessed_letters.append(guess)\n",
        "\n",
        "    if guess in word_to_guess:\n",
        "        print(\"Correct guess!\")\n",
        "        for i in range(word_length):\n",
        "            if word_to_guess[i] == guess:\n",
        "                hidden_word[i] = guess\n",
        "    else:\n",
        "        print(\"Incorrect guess.\")\n",
        "        attempts -= 1\n",
        "        draw_hangman(6 - attempts)\n",
        "\n",
        "if '_' not in hidden_word:\n",
        "    print(f\"Congratulations! You guessed the word: {''.join(hidden_word)}\")\n",
        "else:\n",
        "    print(f\"Out of attempts. The word was: {word_to_guess}\")\n"
      ],
      "metadata": {
        "colab": {
          "base_uri": "https://localhost:8080/"
        },
        "id": "BJgvdZWlT-7w",
        "outputId": "57b01740-fbf5-4606-90e6-c7d3806ec1b0"
      },
      "execution_count": 6,
      "outputs": [
        {
          "output_type": "stream",
          "name": "stdout",
          "text": [
            "_ _ _ _ _ _\n",
            "Guess a letter: g\n",
            "Incorrect guess.\n",
            "\n",
            "           --------\n",
            "           |      |\n",
            "           O      |\n",
            "                  |\n",
            "                  |\n",
            "                  |\n",
            "        \n",
            "_ _ _ _ _ _\n",
            "Guess a letter: f\n",
            "Incorrect guess.\n",
            "\n",
            "           --------\n",
            "           |      |\n",
            "           O      |\n",
            "           |      |\n",
            "                  |\n",
            "                  |\n",
            "        \n",
            "_ _ _ _ _ _\n",
            "Guess a letter: g\n",
            "You've already guessed that letter.\n",
            "_ _ _ _ _ _\n",
            "Guess a letter: h\n",
            "Correct guess!\n",
            "_ h _ _ _ _\n",
            "Guess a letter: y\n",
            "Correct guess!\n",
            "_ h _ _ _ y\n",
            "Guess a letter: j\n",
            "Incorrect guess.\n",
            "\n",
            "           --------\n",
            "           |      |\n",
            "           O      |\n",
            "          /|      |\n",
            "                  |\n",
            "                  |\n",
            "        \n",
            "_ h _ _ _ y\n",
            "Guess a letter: k\n",
            "Incorrect guess.\n",
            "\n",
            "           --------\n",
            "           |      |\n",
            "           O      |\n",
            "          /|\\     |\n",
            "                  |\n",
            "                  |\n",
            "        \n",
            "_ h _ _ _ y\n",
            "Guess a letter: l\n",
            "Incorrect guess.\n",
            "\n",
            "           --------\n",
            "           |      |\n",
            "           O      |\n",
            "          /|\\     |\n",
            "          /       |\n",
            "                  |\n",
            "        \n",
            "_ h _ _ _ y\n",
            "Guess a letter: a\n",
            "Incorrect guess.\n",
            "\n",
            "           --------\n",
            "           |      |\n",
            "           O      |\n",
            "          /|\\     |\n",
            "          / \\     |\n",
            "                  |\n",
            "        \n",
            "Out of attempts. The word was: cherry\n"
          ]
        }
      ]
    },
    {
      "cell_type": "markdown",
      "source": [
        "**Number Guessing Game:** Create a program that generates a random number between 1 and 100, and then asks the user to guess the number. The program should provide hints to the user if the guessed number is greater or less than the target number, and keep asking for a new guess until the user guesses correctly"
      ],
      "metadata": {
        "id": "lEAq9onaR0Uk"
      }
    },
    {
      "cell_type": "code",
      "source": [
        "import random\n",
        "\n",
        "# Generate a random number between 1 and 100\n",
        "target_number = random.randint(1, 100)\n",
        "\n",
        "# Initialize variables\n",
        "attempts = 0\n",
        "\n",
        "# Game loop\n",
        "while True:\n",
        "    guess = int(input(\"Guess a number between 1 and 100: \"))\n",
        "    attempts += 1\n",
        "\n",
        "    if guess < target_number:\n",
        "        print(\"The number is greater.\")\n",
        "    elif guess > target_number:\n",
        "        print(\"The number is less.\")\n",
        "    else:\n",
        "        print(f\"Congratulations! You guessed the number {target_number} in {attempts} attempts.\")\n",
        "        break\n"
      ],
      "metadata": {
        "colab": {
          "base_uri": "https://localhost:8080/"
        },
        "id": "B2gK486fRkFK",
        "outputId": "f3e053ab-9b46-4dd1-d739-e96e030c1a0b"
      },
      "execution_count": 1,
      "outputs": [
        {
          "output_type": "stream",
          "name": "stdout",
          "text": [
            "Guess a number between 1 and 100: 50\n",
            "The number is greater.\n",
            "Guess a number between 1 and 100: 64\n",
            "The number is less.\n",
            "Guess a number between 1 and 100: 55\n",
            "The number is greater.\n",
            "Guess a number between 1 and 100: 60\n",
            "The number is greater.\n",
            "Guess a number between 1 and 100: 62\n",
            "The number is less.\n",
            "Guess a number between 1 and 100: 61\n",
            "Congratulations! You guessed the number 61 in 6 attempts.\n"
          ]
        }
      ]
    }
  ]
}